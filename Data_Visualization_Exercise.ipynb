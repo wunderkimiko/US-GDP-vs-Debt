{
  "nbformat": 4,
  "nbformat_minor": 0,
  "metadata": {
    "colab": {
      "name": "Data Visualization Exercise.ipynb",
      "provenance": [],
      "collapsed_sections": [],
      "authorship_tag": "ABX9TyNv4szuLu9IF50rAKqcOVtz",
      "include_colab_link": true
    },
    "kernelspec": {
      "name": "python3",
      "display_name": "Python 3"
    },
    "language_info": {
      "name": "python"
    }
  },
  "cells": [
    {
      "cell_type": "markdown",
      "metadata": {
        "id": "view-in-github",
        "colab_type": "text"
      },
      "source": [
        "<a href=\"https://colab.research.google.com/github/wunderkimiko/US-GDP-vs-Debt/blob/main/Data_Visualization_Exercise.ipynb\" target=\"_parent\"><img src=\"https://colab.research.google.com/assets/colab-badge.svg\" alt=\"Open In Colab\"/></a>"
      ]
    },
    {
      "cell_type": "code",
      "metadata": {
        "colab": {
          "base_uri": "https://localhost:8080/"
        },
        "id": "H7x78ipF3Czr",
        "outputId": "db0e4794-00a5-4bf6-d4ed-7592b8c25479"
      },
      "source": [
        "from google.colab import drive\n",
        "drive.mount('/content/drive')"
      ],
      "execution_count": 2,
      "outputs": [
        {
          "output_type": "stream",
          "name": "stdout",
          "text": [
            "Mounted at /content/drive\n"
          ]
        }
      ]
    },
    {
      "cell_type": "code",
      "metadata": {
        "colab": {
          "base_uri": "https://localhost:8080/",
          "height": 204
        },
        "id": "2ctP5rRn3_aH",
        "outputId": "4b13c83a-ca83-4925-ddad-d0cc61c5329b"
      },
      "source": [
        "import pandas as pd\n",
        "import matplotlib.pyplot as plt\n",
        "fred_graphdf = pd.read_excel('/content/drive/MyDrive/Coding Dojo/Data Sets/US GDP vs Debt.xlsx')\n",
        "fred_graphdf.head()"
      ],
      "execution_count": 22,
      "outputs": [
        {
          "output_type": "execute_result",
          "data": {
            "text/html": [
              "<div>\n",
              "<style scoped>\n",
              "    .dataframe tbody tr th:only-of-type {\n",
              "        vertical-align: middle;\n",
              "    }\n",
              "\n",
              "    .dataframe tbody tr th {\n",
              "        vertical-align: top;\n",
              "    }\n",
              "\n",
              "    .dataframe thead th {\n",
              "        text-align: right;\n",
              "    }\n",
              "</style>\n",
              "<table border=\"1\" class=\"dataframe\">\n",
              "  <thead>\n",
              "    <tr style=\"text-align: right;\">\n",
              "      <th></th>\n",
              "      <th>Quarter</th>\n",
              "      <th>Gross Domestic Product ($mil)</th>\n",
              "      <th>Total Public Debt ($mil)</th>\n",
              "    </tr>\n",
              "  </thead>\n",
              "  <tbody>\n",
              "    <tr>\n",
              "      <th>0</th>\n",
              "      <td>1966-01-01</td>\n",
              "      <td>795.734</td>\n",
              "      <td>320999</td>\n",
              "    </tr>\n",
              "    <tr>\n",
              "      <th>1</th>\n",
              "      <td>1966-04-01</td>\n",
              "      <td>804.981</td>\n",
              "      <td>316097</td>\n",
              "    </tr>\n",
              "    <tr>\n",
              "      <th>2</th>\n",
              "      <td>1966-07-01</td>\n",
              "      <td>819.638</td>\n",
              "      <td>324748</td>\n",
              "    </tr>\n",
              "    <tr>\n",
              "      <th>3</th>\n",
              "      <td>1966-10-01</td>\n",
              "      <td>833.302</td>\n",
              "      <td>329319</td>\n",
              "    </tr>\n",
              "    <tr>\n",
              "      <th>4</th>\n",
              "      <td>1967-01-01</td>\n",
              "      <td>844.170</td>\n",
              "      <td>330947</td>\n",
              "    </tr>\n",
              "  </tbody>\n",
              "</table>\n",
              "</div>"
            ],
            "text/plain": [
              "     Quarter  Gross Domestic Product ($mil)  Total Public Debt ($mil)\n",
              "0 1966-01-01                        795.734                    320999\n",
              "1 1966-04-01                        804.981                    316097\n",
              "2 1966-07-01                        819.638                    324748\n",
              "3 1966-10-01                        833.302                    329319\n",
              "4 1967-01-01                        844.170                    330947"
            ]
          },
          "metadata": {},
          "execution_count": 22
        }
      ]
    },
    {
      "cell_type": "code",
      "metadata": {
        "colab": {
          "base_uri": "https://localhost:8080/",
          "height": 204
        },
        "id": "_Qcm3jq1WOJY",
        "outputId": "d809863a-52dc-4911-b70c-e9acb13877bf"
      },
      "source": [
        "fred_graphdf.tail()"
      ],
      "execution_count": 23,
      "outputs": [
        {
          "output_type": "execute_result",
          "data": {
            "text/html": [
              "<div>\n",
              "<style scoped>\n",
              "    .dataframe tbody tr th:only-of-type {\n",
              "        vertical-align: middle;\n",
              "    }\n",
              "\n",
              "    .dataframe tbody tr th {\n",
              "        vertical-align: top;\n",
              "    }\n",
              "\n",
              "    .dataframe thead th {\n",
              "        text-align: right;\n",
              "    }\n",
              "</style>\n",
              "<table border=\"1\" class=\"dataframe\">\n",
              "  <thead>\n",
              "    <tr style=\"text-align: right;\">\n",
              "      <th></th>\n",
              "      <th>Quarter</th>\n",
              "      <th>Gross Domestic Product ($mil)</th>\n",
              "      <th>Total Public Debt ($mil)</th>\n",
              "    </tr>\n",
              "  </thead>\n",
              "  <tbody>\n",
              "    <tr>\n",
              "      <th>213</th>\n",
              "      <td>2019-04-01</td>\n",
              "      <td>21329.877</td>\n",
              "      <td>22023283</td>\n",
              "    </tr>\n",
              "    <tr>\n",
              "      <th>214</th>\n",
              "      <td>2019-07-01</td>\n",
              "      <td>21540.325</td>\n",
              "      <td>22719402</td>\n",
              "    </tr>\n",
              "    <tr>\n",
              "      <th>215</th>\n",
              "      <td>2019-10-01</td>\n",
              "      <td>21747.394</td>\n",
              "      <td>23201380</td>\n",
              "    </tr>\n",
              "    <tr>\n",
              "      <th>216</th>\n",
              "      <td>2020-01-01</td>\n",
              "      <td>21561.139</td>\n",
              "      <td>23223813</td>\n",
              "    </tr>\n",
              "    <tr>\n",
              "      <th>217</th>\n",
              "      <td>2020-04-01</td>\n",
              "      <td>19520.114</td>\n",
              "      <td>26477241</td>\n",
              "    </tr>\n",
              "  </tbody>\n",
              "</table>\n",
              "</div>"
            ],
            "text/plain": [
              "       Quarter  Gross Domestic Product ($mil)  Total Public Debt ($mil)\n",
              "213 2019-04-01                      21329.877                  22023283\n",
              "214 2019-07-01                      21540.325                  22719402\n",
              "215 2019-10-01                      21747.394                  23201380\n",
              "216 2020-01-01                      21561.139                  23223813\n",
              "217 2020-04-01                      19520.114                  26477241"
            ]
          },
          "metadata": {},
          "execution_count": 23
        }
      ]
    },
    {
      "cell_type": "code",
      "metadata": {
        "colab": {
          "base_uri": "https://localhost:8080/",
          "height": 409
        },
        "id": "shdkDw-XPcmZ",
        "outputId": "ba537e64-9071-4075-d248-e008c9071fcb"
      },
      "source": [
        "# US began accumulating public debt on January 1, 1966. This is data from January 1, 1966 until April 1, 2020\n",
        "\n",
        "fig, ax = plt.subplots(nrows=1, ncols=1, figsize=(12,6))\n",
        "fred_graphdf.plot(x='Quarter',y='Gross Domestic Product ($mil)', ax = ax, c ='r')\n",
        "fred_graphdf.plot(x='Quarter', y='Total Public Debt ($mil)', ax = ax, secondary_y = True, c = 'blue' );\n",
        "ax.set_xlabel('Quarter', fontsize = 16)\n",
        "ax.set_ylabel('Dollars in million', fontsize = 16)\n",
        "ax.set_title('US GDP vs Debt');"
      ],
      "execution_count": 24,
      "outputs": [
        {
          "output_type": "display_data",
          "data": {
            "image/png": "[encoded data removed]",
            "text/plain": [
              "<Figure size 864x432 with 2 Axes>"
            ]
          },
          "metadata": {
            "needs_background": "light"
          }
        }
      ]
    }
  ]
}